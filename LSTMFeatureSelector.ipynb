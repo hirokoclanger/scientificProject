{
 "cells": [
  {
   "cell_type": "code",
   "id": "initial_id",
   "metadata": {
    "collapsed": true,
    "ExecuteTime": {
     "end_time": "2024-11-12T20:52:46.571830Z",
     "start_time": "2024-11-12T20:52:46.340236Z"
    }
   },
   "source": [
    "import keras_tuner as kt\n",
    "from keras.models import Sequential\n",
    "from keras.layers import LSTM, Dense, Dropout, Bidirectional\n",
    "from keras.optimizers import Adam\n",
    "\n",
    "# Define the model-building function for Keras Tuner\n",
    "def build_model(hp):\n",
    "    model = Sequential()\n",
    "    \n",
    "    # Tune the number of LSTM units in the first LSTM layer\n",
    "    units = hp.Int(\"units\", min_value=20, max_value=100, step=20)\n",
    "    model.add(Bidirectional(LSTM(units=units, return_sequences=True)))\n",
    "    model.add(Dropout(0.2))\n",
    "\n",
    "    # Tune the number of LSTM units in the second LSTM layer\n",
    "    units2 = hp.Int(\"units2\", min_value=20, max_value=100, step=20)\n",
    "    model.add(Bidirectional(LSTM(units=units2)))\n",
    "    model.add(Dropout(0.2))\n",
    "    \n",
    "    # Output layer\n",
    "    model.add(Dense(1))\n",
    "    \n",
    "    # Tune the learning rate\n",
    "    learning_rate = hp.Choice(\"learning_rate\", values=[1e-2, 1e-3, 1e-4, 1e-5])\n",
    "    model.compile(optimizer=Adam(learning_rate=learning_rate), loss=\"mean_squared_error\")\n",
    "    \n",
    "    return model\n",
    "\n",
    "# Set up the tuner with a specific objective and tuning range\n",
    "tuner = kt.RandomSearch(\n",
    "    build_model,\n",
    "    objective=\"val_loss\",\n",
    "    max_trials=20,  # Number of different hyperparameter configurations to try\n",
    "    executions_per_trial=2,  # Number of models to train per configuration to average out variability\n",
    "    directory=\"hyperparameter_tuning\",\n",
    "    project_name=\"lstm_tuning\"\n",
    ")\n",
    "\n",
    "# Run the hyperparameter search\n",
    "tuner.search(X_train, y_train, epochs=50, validation_data=(X_test, y_test), batch_size=32)\n",
    "\n",
    "# Get the best model and hyperparameters\n",
    "best_hps = tuner.get_best_hyperparameters(num_trials=1)[0]\n",
    "print(f\"Best number of units in first LSTM layer: {best_hps.get('units')}\")\n",
    "print(f\"Best number of units in second LSTM layer: {best_hps.get('units2')}\")\n",
    "print(f\"Best learning rate: {best_hps.get('learning_rate')}\")\n",
    "\n",
    "# Build and train the best model\n",
    "best_model = tuner.hypermodel.build(best_hps)\n",
    "history = best_model.fit(X_train, y_train, epochs=100, validation_data=(X_test, y_test), batch_size=32)\n",
    "\n",
    "# Evaluate the best model\n",
    "loss = best_model.evaluate(X_test, y_test)\n",
    "print(f\"Test loss of best model: {loss}\")"
   ],
   "outputs": [
    {
     "ename": "ModuleNotFoundError",
     "evalue": "No module named 'keras_tuner'",
     "output_type": "error",
     "traceback": [
      "\u001B[0;31m---------------------------------------------------------------------------\u001B[0m",
      "\u001B[0;31mModuleNotFoundError\u001B[0m                       Traceback (most recent call last)",
      "Cell \u001B[0;32mIn[1], line 1\u001B[0m\n\u001B[0;32m----> 1\u001B[0m \u001B[38;5;28;01mimport\u001B[39;00m \u001B[38;5;21;01mkeras_tuner\u001B[39;00m \u001B[38;5;28;01mas\u001B[39;00m \u001B[38;5;21;01mkt\u001B[39;00m\n\u001B[1;32m      2\u001B[0m \u001B[38;5;28;01mfrom\u001B[39;00m \u001B[38;5;21;01mkeras\u001B[39;00m\u001B[38;5;21;01m.\u001B[39;00m\u001B[38;5;21;01mmodels\u001B[39;00m \u001B[38;5;28;01mimport\u001B[39;00m Sequential\n\u001B[1;32m      3\u001B[0m \u001B[38;5;28;01mfrom\u001B[39;00m \u001B[38;5;21;01mkeras\u001B[39;00m\u001B[38;5;21;01m.\u001B[39;00m\u001B[38;5;21;01mlayers\u001B[39;00m \u001B[38;5;28;01mimport\u001B[39;00m LSTM, Dense, Dropout, Bidirectional\n",
      "\u001B[0;31mModuleNotFoundError\u001B[0m: No module named 'keras_tuner'"
     ]
    }
   ],
   "execution_count": 1
  }
 ],
 "metadata": {
  "kernelspec": {
   "display_name": "Python 3",
   "language": "python",
   "name": "python3"
  },
  "language_info": {
   "codemirror_mode": {
    "name": "ipython",
    "version": 2
   },
   "file_extension": ".py",
   "mimetype": "text/x-python",
   "name": "python",
   "nbconvert_exporter": "python",
   "pygments_lexer": "ipython2",
   "version": "2.7.6"
  }
 },
 "nbformat": 4,
 "nbformat_minor": 5
}
